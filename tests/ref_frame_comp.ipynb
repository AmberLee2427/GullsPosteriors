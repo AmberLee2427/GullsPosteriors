{
 "cells": [
  {
   "cell_type": "markdown",
   "metadata": {},
   "source": [
    "# Reference Frame Comparison"
   ]
  },
  {
   "cell_type": "code",
   "execution_count": 2,
   "metadata": {},
   "outputs": [],
   "source": [
    "import numpy as np\n",
    "import pandas as pd\n",
    "import os"
   ]
  },
  {
   "cell_type": "code",
   "execution_count": 11,
   "metadata": {},
   "outputs": [
    {
     "name": "stdout",
     "output_type": "stream",
     "text": [
      "               123_0_740_         4_0_2008_       1000_0_1445_  \\\n",
      "t0       397031680.159623  686768639.372056  2587468609.159162   \n",
      "tc       397031680.159626   686760482.91896  2585907366.126475   \n",
      "tc_calc  397031776.206144  686763667.850595  2587157285.906013   \n",
      "min                    t0                tc                 tc   \n",
      "\n",
      "               44_0_1037_         49_0_1701_       127_0_3165_  \\\n",
      "t0       527085481.890893  1500434516.793944  240721921.670215   \n",
      "tc       527114318.641914  1500094178.116257  240573200.227608   \n",
      "tc_calc  527376824.183324  1500308979.682186  240602860.395528   \n",
      "min                    t0                 tc                tc   \n",
      "\n",
      "                48_0_2413_        127_0_625_       161_0_1398_  \\\n",
      "t0       2337002110.863868  305399533.312212  493786953.013425   \n",
      "tc       2149459289.865111  305414977.860484  493785141.998506   \n",
      "tc_calc  2141215030.205173  305405889.234361  493784427.843367   \n",
      "min                tc_calc                t0           tc_calc   \n",
      "\n",
      "              121_0_2281_  ...       592_0_2030_         125_0_829_  \\\n",
      "t0       732662067.327119  ...  790334901.194576  1904677637.569954   \n",
      "tc       732682748.962095  ...  788926223.014815  1904677637.569952   \n",
      "tc_calc  732674518.702883  ...  787572077.118915  1904677273.434427   \n",
      "min                    t0  ...           tc_calc            tc_calc   \n",
      "\n",
      "                2_0_1315_       592_0_1416_        168_0_1082_  \\\n",
      "t0       196002034.030024  721538016.234885  2415084241.712113   \n",
      "tc       196015440.608078  721537997.828558  2415084241.712126   \n",
      "tc_calc  196022593.501633  721537913.701076  2415041889.305875   \n",
      "min                    t0           tc_calc            tc_calc   \n",
      "\n",
      "                43_0_749_        592_0_2317_        49_0_3011_  \\\n",
      "t0       344646518.723035  1800780604.257869  283254926.746569   \n",
      "tc       344651900.273324  1800780604.257862  287178808.773788   \n",
      "tc_calc  344648486.809963  1800883612.765883  299305528.920697   \n",
      "min                    t0                 tc                t0   \n",
      "\n",
      "                52_0_3116_        45_0_1766_  \n",
      "t0       3566402876.085281  516492756.513747  \n",
      "tc       3567155805.230753  516492756.513748  \n",
      "tc_calc  3566603444.330406   516484438.97611  \n",
      "min                     t0           tc_calc  \n",
      "\n",
      "[4 rows x 502 columns]\n"
     ]
    }
   ],
   "source": [
    "path = './sample-241113/posteriors/'\n",
    "data_frames = []\n",
    "\n",
    "for file in os.listdir(path):\n",
    "    if file.endswith('chi2.txt'):\n",
    "        event = file.split('chi2.txt')[0]\n",
    "        chi2 = pd.read_csv(os.path.join(path, file), header=None)\n",
    "        chi2.columns = [event]  # Rename the column to the event name\n",
    "        data_frames.append(chi2)\n",
    "\n",
    "# Concatenate all data frames along the columns\n",
    "df = pd.concat(data_frames, axis=1)\n",
    "\n",
    "# Rename the rows\n",
    "df.index = ['t0', 'tc', 'tc_calc']\n",
    "\n",
    "# Add a new row named 'min' that contains the name of the row with the minimum value for each column\n",
    "min_row = df.idxmin()\n",
    "min_row.name = 'min'\n",
    "df = pd.concat([df, pd.DataFrame(min_row).T])\n",
    "\n",
    "print(df)\n"
   ]
  },
  {
   "cell_type": "code",
   "execution_count": null,
   "metadata": {},
   "outputs": [],
   "source": []
  }
 ],
 "metadata": {
  "kernelspec": {
   "display_name": "GULLS",
   "language": "python",
   "name": "python3"
  },
  "language_info": {
   "codemirror_mode": {
    "name": "ipython",
    "version": 3
   },
   "file_extension": ".py",
   "mimetype": "text/x-python",
   "name": "python",
   "nbconvert_exporter": "python",
   "pygments_lexer": "ipython3",
   "version": "3.13.0"
  }
 },
 "nbformat": 4,
 "nbformat_minor": 2
}
